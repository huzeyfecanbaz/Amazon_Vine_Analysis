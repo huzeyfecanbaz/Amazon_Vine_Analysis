{
  "nbformat": 4,
  "nbformat_minor": 0,
  "metadata": {
    "colab": {
      "provenance": []
    },
    "kernelspec": {
      "name": "python3",
      "display_name": "Python 3"
    },
    "language_info": {
      "name": "python"
    }
  },
  "cells": [
    {
      "cell_type": "code",
      "execution_count": 1,
      "metadata": {
        "colab": {
          "base_uri": "https://localhost:8080/"
        },
        "id": "S1L9RkoSnP_S",
        "outputId": "750474af-9d28-4c52-e93d-453b8751925d"
      },
      "outputs": [
        {
          "output_type": "stream",
          "name": "stdout",
          "text": [
            "\r0% [Working]\r            \rIgn:1 https://developer.download.nvidia.com/compute/machine-learning/repos/ubuntu1804/x86_64  InRelease\n",
            "\r0% [Connecting to archive.ubuntu.com] [Connecting to security.ubuntu.com] [Wait\r                                                                               \rGet:2 https://cloud.r-project.org/bin/linux/ubuntu bionic-cran40/ InRelease [3,626 B]\n",
            "\r0% [Connecting to archive.ubuntu.com] [Connecting to security.ubuntu.com] [2 In\r0% [Connecting to archive.ubuntu.com] [Connecting to security.ubuntu.com] [Wait\r                                                                               \rHit:3 https://developer.download.nvidia.com/compute/cuda/repos/ubuntu1804/x86_64  InRelease\n",
            "Hit:4 https://developer.download.nvidia.com/compute/machine-learning/repos/ubuntu1804/x86_64  Release\n",
            "Hit:5 http://archive.ubuntu.com/ubuntu bionic InRelease\n",
            "Get:6 http://archive.ubuntu.com/ubuntu bionic-updates InRelease [88.7 kB]\n",
            "Get:7 http://security.ubuntu.com/ubuntu bionic-security InRelease [88.7 kB]\n",
            "Hit:8 http://ppa.launchpad.net/c2d4u.team/c2d4u4.0+/ubuntu bionic InRelease\n",
            "Get:9 http://archive.ubuntu.com/ubuntu bionic-backports InRelease [74.6 kB]\n",
            "Hit:10 http://ppa.launchpad.net/cran/libgit2/ubuntu bionic InRelease\n",
            "Hit:12 http://ppa.launchpad.net/deadsnakes/ppa/ubuntu bionic InRelease\n",
            "Hit:13 http://ppa.launchpad.net/graphics-drivers/ppa/ubuntu bionic InRelease\n",
            "Get:14 http://archive.ubuntu.com/ubuntu bionic-updates/main amd64 Packages [3,397 kB]\n",
            "Get:15 http://archive.ubuntu.com/ubuntu bionic-updates/universe amd64 Packages [2,318 kB]\n",
            "Get:16 http://security.ubuntu.com/ubuntu bionic-security/universe amd64 Packages [1,540 kB]\n",
            "Get:17 http://security.ubuntu.com/ubuntu bionic-security/main amd64 Packages [2,965 kB]\n",
            "Fetched 10.5 MB in 5s (2,093 kB/s)\n",
            "Reading package lists... Done\n"
          ]
        }
      ],
      "source": [
        "import os\n",
        "# Find the latest version of spark 3.0 from http://www.apache.org/dist/spark/ and enter as the spark version\n",
        "# For example:\n",
        "# spark_version = 'spark-3.2.2'\n",
        "spark_version = 'spark-3.2.2'\n",
        "os.environ['SPARK_VERSION']=spark_version\n",
        "\n",
        "# Install Spark and Java\n",
        "!apt-get update\n",
        "!apt-get install openjdk-11-jdk-headless -qq > /dev/null\n",
        "!wget -q http://www.apache.org/dist/spark/$SPARK_VERSION/$SPARK_VERSION-bin-hadoop2.7.tgz\n",
        "!tar xf $SPARK_VERSION-bin-hadoop2.7.tgz\n",
        "!pip install -q findspark\n",
        "\n",
        "# Set Environment Variables\n",
        "import os\n",
        "os.environ[\"JAVA_HOME\"] = \"/usr/lib/jvm/java-11-openjdk-amd64\"\n",
        "os.environ[\"SPARK_HOME\"] = f\"/content/{spark_version}-bin-hadoop2.7\"\n",
        "\n",
        "# Start a SparkSession\n",
        "import findspark\n",
        "findspark.init()"
      ]
    },
    {
      "cell_type": "code",
      "source": [
        "from pyspark.sql import SparkSession\n",
        "spark = SparkSession.builder.appName(\"BigData-Challenge\").config(\"spark.driver.extraClassPath\",\"/content/postgresql-42.2.16.jar\").getOrCreate()"
      ],
      "metadata": {
        "id": "a5uyVLionmKL"
      },
      "execution_count": 2,
      "outputs": []
    },
    {
      "cell_type": "code",
      "source": [
        "from pyspark import SparkFiles\n",
        "url = \"https://s3.amazonaws.com/amazon-reviews-pds/tsv/amazon_reviews_us_Digital_Ebook_Purchase_v1_01.tsv.gz\"\n",
        "spark.sparkContext.addFile(url)\n",
        "df = spark.read.option(\"encoding\", \"UTF-8\").csv(SparkFiles.get(\"\"), sep=\"\\t\", header=True, inferSchema=True)\n",
        "df.show()"
      ],
      "metadata": {
        "colab": {
          "base_uri": "https://localhost:8080/"
        },
        "id": "Hr_gu9rFnxcQ",
        "outputId": "b1d347f3-994f-49f6-ed65-3818e1897fed"
      },
      "execution_count": 3,
      "outputs": [
        {
          "output_type": "stream",
          "name": "stdout",
          "text": [
            "+-----------+-----------+--------------+----------+--------------+--------------------+--------------------+-----------+-------------+-----------+----+-----------------+--------------------+--------------------+-----------+\n",
            "|marketplace|customer_id|     review_id|product_id|product_parent|       product_title|    product_category|star_rating|helpful_votes|total_votes|vine|verified_purchase|     review_headline|         review_body|review_date|\n",
            "+-----------+-----------+--------------+----------+--------------+--------------------+--------------------+-----------+-------------+-----------+----+-----------------+--------------------+--------------------+-----------+\n",
            "|         US|   33605939| RGYFDX8QXKEIR|B007KO2MLO|     328837464|           Big Maria|Digital_Ebook_Pur...|          4|            0|          0|   N|                N|              Quirky|Elmore Leonard me...| 2013-09-09|\n",
            "|         US|   34058393|R13CBGTMNV9R8Z|B005FLODDE|     764276359|The Woman Who Was...|Digital_Ebook_Pur...|          4|            1|          2|   N|                Y|The Woman Who Was...|This book was ver...| 2013-09-09|\n",
            "|         US|   39601147| R7DRFHC0F71O0|B00EA3L35O|     535606445|Mary had A Sleepy...|Digital_Ebook_Pur...|          5|            0|          0|   N|                N|This Sleepy Sheep...|I had the opportu...| 2013-09-09|\n",
            "|         US|   17351407|R27LUKEXU3KBXQ|B00BL3JV50|     240053004|          Starstruck|Digital_Ebook_Pur...|          5|            1|          1|   N|                Y|Steamy and suspen...|What a great read...| 2013-09-09|\n",
            "|         US|   10463387|R1VXTPUYMNU687|B00CXU7U80|     931529805|The Complete Cona...|Digital_Ebook_Pur...|          5|            1|          2|   N|                N|          Barbarians|Barbarians need l...| 2013-09-09|\n",
            "|         US|   50484904|R30DKW1GJWLPZC|B004EWGS5G|     442453110|The Middle Passag...|Digital_Ebook_Pur...|          3|            1|          2|   N|                Y|            Menu....|It was okay obvio...| 2013-09-09|\n",
            "|         US|    7145636|R18DPFG2FALJI9|B00BNRJAT6|     856774152|Hide in Plain Sig...|Digital_Ebook_Pur...|          5|            0|          0|   N|                Y|        Awesome book|Very interesting ...| 2013-09-09|\n",
            "|         US|    6285538|R24D677N5WBW5Q|B007FZOXJM|       5589837|Face of Betrayal ...|Digital_Ebook_Pur...|          5|            0|          0|   N|                Y|    Face of betrayal|Really enjoyed th...| 2013-09-09|\n",
            "|         US|   10278048|R2FCJ9BQLSIOR3|B00B6AK7LU|     362701357|Final Justice (A ...|Digital_Ebook_Pur...|          5|            0|          0|   N|                Y|           Very good|I really liked th...| 2013-09-09|\n",
            "|         US|   16568972|R1R6K4MAKDWTXI|B00EVMMLU0|     342745087|Falling For My Hu...|Digital_Ebook_Pur...|          4|            0|          0|   N|                Y|Ouch! My neck is ...|Reading Callum an...| 2013-09-09|\n",
            "|         US|   26001763|R3R5DILCWM8J7B|B00E4W4984|     186117550|  Forgetting Tabitha|Digital_Ebook_Pur...|          5|            0|          0|   N|                Y|It was a wonderfu...|I really enjoyed ...| 2013-09-09|\n",
            "|         US|   48203259| RR5K72IZOCOFE|B005A1JBB8|     947574172|The Blacksmith's ...|Digital_Ebook_Pur...|          4|            0|          0|   N|                N|       Worth reading|Although not comp...| 2013-09-09|\n",
            "|         US|   45028038|R3K9PJU5GLDY3O|B0044DELIQ|     427899617|Vampire Vacation:...|Digital_Ebook_Pur...|          5|            1|          2|   N|                Y|      Very Good Romp|Enjoyed the chara...| 2013-09-09|\n",
            "|         US|   42554355|R1KTZMCDOJXAEK|B00DJQYATE|     184945574|By the Tail (Coug...|Digital_Ebook_Pur...|          5|            0|          0|   N|                N|    Love this Series|I love the Cougar...| 2013-09-09|\n",
            "|         US|   11251156|R3SBEH4Y3W9W11|B004XFYNNS|     820449163|The Kingdom (A Fa...|Digital_Ebook_Pur...|          5|            0|          0|   N|                Y|    Love this author|I really enjoy Cl...| 2013-09-09|\n",
            "|         US|   44677006|R3GB8WOHSWW2EG|B00A27Z6GO|     969993834|6 Erotic Bedtime ...|Digital_Ebook_Pur...|          3|            0|          0|   N|                Y|    Didn't finish...|I have to admit I...| 2013-09-09|\n",
            "|         US|   34645512| RDM68WMOEDNRJ|B008EGV4BQ|      36906356|The Purpose Drive...|Digital_Ebook_Pur...|          5|            0|          0|   N|                Y|Can't unread it now!|Thanx paster Rick...| 2013-09-09|\n",
            "|         US|   16137650|R3TW70YF2WZK9O|B00655U3WE|     941986263|Insurgent (Diverg...|Digital_Ebook_Pur...|          5|            0|          0|   N|                Y|Great second inst...|As with divergent...| 2013-09-09|\n",
            "|         US|    4514126|R39ESX43X1SA5T|B006NG0GXQ|     402593554|Forever His: A Ti...|Digital_Ebook_Pur...|          1|           36|         47|   N|                Y|   Completely absurd|From the time tha...| 2013-09-09|\n",
            "|         US|   44803855|R3MCA5W3BZ65OU|B008J4RPWA|     804503161|Summerset Abbey: ...|Digital_Ebook_Pur...|          5|            0|          0|   N|                Y|#2, just as good ...|I love the intera...| 2013-09-09|\n",
            "+-----------+-----------+--------------+----------+--------------+--------------------+--------------------+-----------+-------------+-----------+----+-----------------+--------------------+--------------------+-----------+\n",
            "only showing top 20 rows\n",
            "\n"
          ]
        }
      ]
    },
    {
      "cell_type": "code",
      "source": [
        "#filter the dataset for total_votes being greater than or equal to 20\n",
        "\n",
        "vote_count = df.filter(\"total_votes >= 20\")\n",
        "vote_count.show()"
      ],
      "metadata": {
        "colab": {
          "base_uri": "https://localhost:8080/"
        },
        "id": "AwKTDe1AoMAb",
        "outputId": "b56ce0be-91a4-4269-eb7c-b6ff24ed2008"
      },
      "execution_count": 4,
      "outputs": [
        {
          "output_type": "stream",
          "name": "stdout",
          "text": [
            "+-----------+-----------+--------------+----------+--------------+--------------------+--------------------+-----------+-------------+-----------+----+-----------------+--------------------+--------------------+-----------+\n",
            "|marketplace|customer_id|     review_id|product_id|product_parent|       product_title|    product_category|star_rating|helpful_votes|total_votes|vine|verified_purchase|     review_headline|         review_body|review_date|\n",
            "+-----------+-----------+--------------+----------+--------------+--------------------+--------------------+-----------+-------------+-----------+----+-----------------+--------------------+--------------------+-----------+\n",
            "|         US|    4514126|R39ESX43X1SA5T|B006NG0GXQ|     402593554|Forever His: A Ti...|Digital_Ebook_Pur...|          1|           36|         47|   N|                Y|   Completely absurd|From the time tha...| 2013-09-09|\n",
            "|         US|   45292583|R31QRZ3JAMPBB4|B0078T6YHY|     267532424|A Lady in Defianc...|Digital_Ebook_Pur...|          1|           16|         26|   N|                Y|           No thanks|This work should ...| 2013-09-09|\n",
            "|         US|   12175486|R23FKBEXURC3SN|B00F225YK2|     953280558|Very Bad Things (...|Digital_Ebook_Pur...|          5|           28|         36|   N|                N|Holy Hotness, Bla...|Another Fave of 2...| 2013-09-09|\n",
            "|         US|   13678613| R4IAIDV5EE84W|B003WUYQG4|      58271710|Fear and Loathing...|Digital_Ebook_Pur...|          1|            8|         21|   N|                Y|Horrible - hated ...|Absolutely hated ...| 2013-09-09|\n",
            "|         US|   12897097|R26MB2DA7ROT4P|B009K7WBR4|     258778337|            The Veil|Digital_Ebook_Pur...|          1|            2|         21|   N|                Y|     Couldn't finish|Or maybe I should...| 2013-09-09|\n",
            "|         US|   28507300| RTRVYV0GWUTCK|B00EY3DN58|     694178149|there was no Jesu...|Digital_Ebook_Pur...|          5|           18|         25|   N|                Y|Great discussion ...|It is great to ha...| 2013-09-09|\n",
            "|         US|   18309091|R3QLZAI37SNOOC|B00DMA6W16|     180312277|     Love In Between|Digital_Ebook_Pur...|          2|           30|         31|   N|                Y|Elementary at best..|After reading all...| 2013-09-09|\n",
            "|         US|   16432598|R1QYZU3RS4CY4F|B00EP4SFOK|     758167516|Slow Cooking for ...|Digital_Ebook_Pur...|          5|           66|         76|   N|                N|  Just What I Needed|Being recent empt...| 2013-09-09|\n",
            "|         US|   49575885|R2UR5OLN1BU87J|B003YCPF88|     547673779|For Love of Livvy...|Digital_Ebook_Pur...|          2|           21|         23|   N|                Y|Disappointing and...|First of all, how...| 2013-09-09|\n",
            "|         US|   38584560| RYBZ6CTBOGI0H|B008J4B40Y|     743481356|Brilliant Blunder...|Digital_Ebook_Pur...|          1|            3|         84|   N|                N|No easy way to co...|Amazon's return p...| 2013-09-09|\n",
            "|         US|   49408728|R38NW44NY19VAZ|B00ENN17MU|     611474610|The Metabolic Sto...|Digital_Ebook_Pur...|          5|           30|         32|   N|                Y|Finally, somebody...|Thank goodness we...| 2013-09-09|\n",
            "|         US|   42233178| RLUFKZ223OR3L|B00EXCZXYE|     985833280|       Crimson Night|Digital_Ebook_Pur...|          2|           20|         23|   N|                N|     Pink evening...|I'm torn about th...| 2013-09-09|\n",
            "|         US|   51366449|R3H9D0U7BCE6FU|B00DUFCJ10|     515159047|1000 Yards - A Jo...|Digital_Ebook_Pur...|          4|           23|         24|   N|                Y|5 out of 6 ain't ...|Looking for a sho...| 2013-09-09|\n",
            "|         US|   32867855|R2OG3RELTTD8B3|B00F0QWBNS|     586652065|Innocent in Las V...|Digital_Ebook_Pur...|          4|           70|         73|   N|                N|           Good Book|One of my favorit...| 2013-09-09|\n",
            "|         US|   11523140|R3SERP1OF1G1MH|B004SOQ0U8|     310528186|No god but God (U...|Digital_Ebook_Pur...|          2|            3|         20|   N|                Y|       Not impressed|If you have read ...| 2013-09-09|\n",
            "|         US|   15195886| RP3K0YBQIVGXZ|B00F27B8YI|     138739715|BLACK (Hard-boile...|Digital_Ebook_Pur...|          5|           57|         63|   N|                Y|A great, new char...|Russell Blake is ...| 2013-09-09|\n",
            "|         US|   43360089|R38NKFX8MFXZF8|B00DYX2904|     641730778|The Nazi Occult W...|Digital_Ebook_Pur...|          1|            2|         21|   N|                Y|Not the best rese...|Not what I expect...| 2013-09-09|\n",
            "|         US|   17594428|R3JFHXXGSKG1CE|B00EV9LSJI|     322078779|Tears of Tess (Mo...|Digital_Ebook_Pur...|          1|           17|         30|   N|                Y|                Yawn|Wish  I could giv...| 2013-09-09|\n",
            "|         US|   25353387| RJK1WCZZAQZ8V|B008U4HH54|     832105261|The Interestings:...|Digital_Ebook_Pur...|          1|           67|         81|   N|                Y|  Most disappointing|Like the characte...| 2013-09-09|\n",
            "|         US|   50624069|R1M14DUDPWVLNM|B003D2EJ5E|     943048855|The Intelligent A...|Digital_Ebook_Pur...|          1|            6|         23|   N|                Y|            Obsolete|Not much informat...| 2013-09-09|\n",
            "+-----------+-----------+--------------+----------+--------------+--------------------+--------------------+-----------+-------------+-----------+----+-----------------+--------------------+--------------------+-----------+\n",
            "only showing top 20 rows\n",
            "\n"
          ]
        }
      ]
    },
    {
      "cell_type": "code",
      "source": [
        "#create a new DataFrame or table to retrieve all the rows where the number of helpful_votes divided by total_votes is equal to or greater than 50%.\n",
        "new_table = vote_count.filter(vote_count[\"helpful_votes\"]/ vote_count[\"total_votes\"]>= 0.5)\n",
        "new_table.show()"
      ],
      "metadata": {
        "colab": {
          "base_uri": "https://localhost:8080/"
        },
        "id": "a6xOvBuOoUBL",
        "outputId": "8bb05f57-7e46-4baf-9b0f-fc6f6bf334d2"
      },
      "execution_count": 5,
      "outputs": [
        {
          "output_type": "stream",
          "name": "stdout",
          "text": [
            "+-----------+-----------+--------------+----------+--------------+--------------------+--------------------+-----------+-------------+-----------+----+-----------------+--------------------+--------------------+-----------+\n",
            "|marketplace|customer_id|     review_id|product_id|product_parent|       product_title|    product_category|star_rating|helpful_votes|total_votes|vine|verified_purchase|     review_headline|         review_body|review_date|\n",
            "+-----------+-----------+--------------+----------+--------------+--------------------+--------------------+-----------+-------------+-----------+----+-----------------+--------------------+--------------------+-----------+\n",
            "|         US|    4514126|R39ESX43X1SA5T|B006NG0GXQ|     402593554|Forever His: A Ti...|Digital_Ebook_Pur...|          1|           36|         47|   N|                Y|   Completely absurd|From the time tha...| 2013-09-09|\n",
            "|         US|   45292583|R31QRZ3JAMPBB4|B0078T6YHY|     267532424|A Lady in Defianc...|Digital_Ebook_Pur...|          1|           16|         26|   N|                Y|           No thanks|This work should ...| 2013-09-09|\n",
            "|         US|   12175486|R23FKBEXURC3SN|B00F225YK2|     953280558|Very Bad Things (...|Digital_Ebook_Pur...|          5|           28|         36|   N|                N|Holy Hotness, Bla...|Another Fave of 2...| 2013-09-09|\n",
            "|         US|   28507300| RTRVYV0GWUTCK|B00EY3DN58|     694178149|there was no Jesu...|Digital_Ebook_Pur...|          5|           18|         25|   N|                Y|Great discussion ...|It is great to ha...| 2013-09-09|\n",
            "|         US|   18309091|R3QLZAI37SNOOC|B00DMA6W16|     180312277|     Love In Between|Digital_Ebook_Pur...|          2|           30|         31|   N|                Y|Elementary at best..|After reading all...| 2013-09-09|\n",
            "|         US|   16432598|R1QYZU3RS4CY4F|B00EP4SFOK|     758167516|Slow Cooking for ...|Digital_Ebook_Pur...|          5|           66|         76|   N|                N|  Just What I Needed|Being recent empt...| 2013-09-09|\n",
            "|         US|   49575885|R2UR5OLN1BU87J|B003YCPF88|     547673779|For Love of Livvy...|Digital_Ebook_Pur...|          2|           21|         23|   N|                Y|Disappointing and...|First of all, how...| 2013-09-09|\n",
            "|         US|   49408728|R38NW44NY19VAZ|B00ENN17MU|     611474610|The Metabolic Sto...|Digital_Ebook_Pur...|          5|           30|         32|   N|                Y|Finally, somebody...|Thank goodness we...| 2013-09-09|\n",
            "|         US|   42233178| RLUFKZ223OR3L|B00EXCZXYE|     985833280|       Crimson Night|Digital_Ebook_Pur...|          2|           20|         23|   N|                N|     Pink evening...|I'm torn about th...| 2013-09-09|\n",
            "|         US|   51366449|R3H9D0U7BCE6FU|B00DUFCJ10|     515159047|1000 Yards - A Jo...|Digital_Ebook_Pur...|          4|           23|         24|   N|                Y|5 out of 6 ain't ...|Looking for a sho...| 2013-09-09|\n",
            "|         US|   32867855|R2OG3RELTTD8B3|B00F0QWBNS|     586652065|Innocent in Las V...|Digital_Ebook_Pur...|          4|           70|         73|   N|                N|           Good Book|One of my favorit...| 2013-09-09|\n",
            "|         US|   15195886| RP3K0YBQIVGXZ|B00F27B8YI|     138739715|BLACK (Hard-boile...|Digital_Ebook_Pur...|          5|           57|         63|   N|                Y|A great, new char...|Russell Blake is ...| 2013-09-09|\n",
            "|         US|   17594428|R3JFHXXGSKG1CE|B00EV9LSJI|     322078779|Tears of Tess (Mo...|Digital_Ebook_Pur...|          1|           17|         30|   N|                Y|                Yawn|Wish  I could giv...| 2013-09-09|\n",
            "|         US|   25353387| RJK1WCZZAQZ8V|B008U4HH54|     832105261|The Interestings:...|Digital_Ebook_Pur...|          1|           67|         81|   N|                Y|  Most disappointing|Like the characte...| 2013-09-09|\n",
            "|         US|   26484179|R3B5SVW0WVUHRB|B004GNFTIK|     722762728|             MALAIKA|Digital_Ebook_Pur...|          5|           23|         23|   N|                Y|                WOW!|It is really diff...| 2013-09-09|\n",
            "|         US|   44408195|R2KYTL3780UJQP|B0076BT83Q|     865937538|CARDIO SUCKS: The...|Digital_Ebook_Pur...|          1|           50|         78|   N|                Y|         Here you go|Do different card...| 2013-09-09|\n",
            "|         US|   16328207|R298OT8VO3655T|B00EVVOT1K|     181613148|The Billionaire's...|Digital_Ebook_Pur...|          5|           22|         25|   N|                Y|           Loved it!|Looked forward to...| 2013-09-09|\n",
            "|         US|   34184686|R22G9KVRZMFBGD|B00CDOQT42|     191010973|CHILDHUNT: A Myst...|Digital_Ebook_Pur...|          5|           26|         26|   N|                N|Faith Mortimer's ...|Faith Mortimer's ...| 2013-09-09|\n",
            "|         US|   48125724|R2STEO5WQ426BH|B00F1HZ9U8|     699131963|The Complete E-Bo...|Digital_Ebook_Pur...|          5|           21|         24|   N|                Y|   nothing held back|If  I were the au...| 2013-09-09|\n",
            "|         US|   26975185|R28Z87RN6YSF25|B00BAXYQQU|     810647855|Clinically Orient...|Digital_Ebook_Pur...|          1|           39|         44|   N|                Y|Kindle is not gra...|I bought all my b...| 2013-09-09|\n",
            "+-----------+-----------+--------------+----------+--------------+--------------------+--------------------+-----------+-------------+-----------+----+-----------------+--------------------+--------------------+-----------+\n",
            "only showing top 20 rows\n",
            "\n"
          ]
        }
      ]
    },
    {
      "cell_type": "code",
      "source": [
        "# Create a new DataFrame or table that retrieves all the rows where a review was written as part of the Vine program (paid), vine == 'Y'\n",
        "new_table.filter(new_table[\"vine\"] == \"Y\").show()\n",
        "new_table.filter(new_table[\"vine\"] == \"Y\").count()"
      ],
      "metadata": {
        "colab": {
          "base_uri": "https://localhost:8080/"
        },
        "id": "3oJkhSt2oUmN",
        "outputId": "3c08804c-9dc1-44b0-8b74-904f716bdf35"
      },
      "execution_count": 6,
      "outputs": [
        {
          "output_type": "stream",
          "name": "stdout",
          "text": [
            "+-----------+-----------+---------+----------+--------------+-------------+----------------+-----------+-------------+-----------+----+-----------------+---------------+-----------+-----------+\n",
            "|marketplace|customer_id|review_id|product_id|product_parent|product_title|product_category|star_rating|helpful_votes|total_votes|vine|verified_purchase|review_headline|review_body|review_date|\n",
            "+-----------+-----------+---------+----------+--------------+-------------+----------------+-----------+-------------+-----------+----+-----------------+---------------+-----------+-----------+\n",
            "+-----------+-----------+---------+----------+--------------+-------------+----------------+-----------+-------------+-----------+----+-----------------+---------------+-----------+-----------+\n",
            "\n"
          ]
        },
        {
          "output_type": "execute_result",
          "data": {
            "text/plain": [
              "0"
            ]
          },
          "metadata": {},
          "execution_count": 6
        }
      ]
    },
    {
      "cell_type": "code",
      "source": [
        "#Create a new DataFrame or table that retrieves all the rows where a review was written as part of the Vine program (paid), vine == 'N'\n",
        "new_table.filter(new_table[\"vine\"] == \"N\").show(5)\n",
        "new_table.filter(new_table[\"vine\"] == \"N\").count()"
      ],
      "metadata": {
        "colab": {
          "base_uri": "https://localhost:8080/"
        },
        "id": "SCWfF_keoXtj",
        "outputId": "5402c7b7-a7a8-4868-fc82-076441f58eed"
      },
      "execution_count": 7,
      "outputs": [
        {
          "output_type": "stream",
          "name": "stdout",
          "text": [
            "+-----------+-----------+--------------+----------+--------------+--------------------+--------------------+-----------+-------------+-----------+----+-----------------+--------------------+--------------------+-----------+\n",
            "|marketplace|customer_id|     review_id|product_id|product_parent|       product_title|    product_category|star_rating|helpful_votes|total_votes|vine|verified_purchase|     review_headline|         review_body|review_date|\n",
            "+-----------+-----------+--------------+----------+--------------+--------------------+--------------------+-----------+-------------+-----------+----+-----------------+--------------------+--------------------+-----------+\n",
            "|         US|    4514126|R39ESX43X1SA5T|B006NG0GXQ|     402593554|Forever His: A Ti...|Digital_Ebook_Pur...|          1|           36|         47|   N|                Y|   Completely absurd|From the time tha...| 2013-09-09|\n",
            "|         US|   45292583|R31QRZ3JAMPBB4|B0078T6YHY|     267532424|A Lady in Defianc...|Digital_Ebook_Pur...|          1|           16|         26|   N|                Y|           No thanks|This work should ...| 2013-09-09|\n",
            "|         US|   12175486|R23FKBEXURC3SN|B00F225YK2|     953280558|Very Bad Things (...|Digital_Ebook_Pur...|          5|           28|         36|   N|                N|Holy Hotness, Bla...|Another Fave of 2...| 2013-09-09|\n",
            "|         US|   28507300| RTRVYV0GWUTCK|B00EY3DN58|     694178149|there was no Jesu...|Digital_Ebook_Pur...|          5|           18|         25|   N|                Y|Great discussion ...|It is great to ha...| 2013-09-09|\n",
            "|         US|   18309091|R3QLZAI37SNOOC|B00DMA6W16|     180312277|     Love In Between|Digital_Ebook_Pur...|          2|           30|         31|   N|                Y|Elementary at best..|After reading all...| 2013-09-09|\n",
            "+-----------+-----------+--------------+----------+--------------+--------------------+--------------------+-----------+-------------+-----------+----+-----------------+--------------------+--------------------+-----------+\n",
            "only showing top 5 rows\n",
            "\n"
          ]
        },
        {
          "output_type": "execute_result",
          "data": {
            "text/plain": [
              "65149"
            ]
          },
          "metadata": {},
          "execution_count": 7
        }
      ]
    },
    {
      "cell_type": "code",
      "source": [
        "# number of five star reviews\n",
        "five_star_reviews = new_table.filter(new_table[\"star_rating\"]== 5)\n",
        "five_star_reviews.show()"
      ],
      "metadata": {
        "colab": {
          "base_uri": "https://localhost:8080/"
        },
        "id": "dd9KAKhcodE0",
        "outputId": "6aa90d5f-e913-4b47-f7d1-dc854d9f8731"
      },
      "execution_count": 8,
      "outputs": [
        {
          "output_type": "stream",
          "name": "stdout",
          "text": [
            "+-----------+-----------+--------------+----------+--------------+--------------------+--------------------+-----------+-------------+-----------+----+-----------------+--------------------+--------------------+-----------+\n",
            "|marketplace|customer_id|     review_id|product_id|product_parent|       product_title|    product_category|star_rating|helpful_votes|total_votes|vine|verified_purchase|     review_headline|         review_body|review_date|\n",
            "+-----------+-----------+--------------+----------+--------------+--------------------+--------------------+-----------+-------------+-----------+----+-----------------+--------------------+--------------------+-----------+\n",
            "|         US|   12175486|R23FKBEXURC3SN|B00F225YK2|     953280558|Very Bad Things (...|Digital_Ebook_Pur...|          5|           28|         36|   N|                N|Holy Hotness, Bla...|Another Fave of 2...| 2013-09-09|\n",
            "|         US|   28507300| RTRVYV0GWUTCK|B00EY3DN58|     694178149|there was no Jesu...|Digital_Ebook_Pur...|          5|           18|         25|   N|                Y|Great discussion ...|It is great to ha...| 2013-09-09|\n",
            "|         US|   16432598|R1QYZU3RS4CY4F|B00EP4SFOK|     758167516|Slow Cooking for ...|Digital_Ebook_Pur...|          5|           66|         76|   N|                N|  Just What I Needed|Being recent empt...| 2013-09-09|\n",
            "|         US|   49408728|R38NW44NY19VAZ|B00ENN17MU|     611474610|The Metabolic Sto...|Digital_Ebook_Pur...|          5|           30|         32|   N|                Y|Finally, somebody...|Thank goodness we...| 2013-09-09|\n",
            "|         US|   15195886| RP3K0YBQIVGXZ|B00F27B8YI|     138739715|BLACK (Hard-boile...|Digital_Ebook_Pur...|          5|           57|         63|   N|                Y|A great, new char...|Russell Blake is ...| 2013-09-09|\n",
            "|         US|   26484179|R3B5SVW0WVUHRB|B004GNFTIK|     722762728|             MALAIKA|Digital_Ebook_Pur...|          5|           23|         23|   N|                Y|                WOW!|It is really diff...| 2013-09-09|\n",
            "|         US|   16328207|R298OT8VO3655T|B00EVVOT1K|     181613148|The Billionaire's...|Digital_Ebook_Pur...|          5|           22|         25|   N|                Y|           Loved it!|Looked forward to...| 2013-09-09|\n",
            "|         US|   34184686|R22G9KVRZMFBGD|B00CDOQT42|     191010973|CHILDHUNT: A Myst...|Digital_Ebook_Pur...|          5|           26|         26|   N|                N|Faith Mortimer's ...|Faith Mortimer's ...| 2013-09-09|\n",
            "|         US|   48125724|R2STEO5WQ426BH|B00F1HZ9U8|     699131963|The Complete E-Bo...|Digital_Ebook_Pur...|          5|           21|         24|   N|                Y|   nothing held back|If  I were the au...| 2013-09-09|\n",
            "|         US|   53068453| R4UL4LMRE1I8G|B0097CO9ZY|     417176069|The Ghost and The...|Digital_Ebook_Pur...|          5|           26|         29|   N|                Y|Great book at any...|This book was on ...| 2013-09-09|\n",
            "|         US|   14238766|R3IJ80HOKWJWLF|B00EY3DN58|     694178149|there was no Jesu...|Digital_Ebook_Pur...|          5|          137|        158|   N|                Y|Excellent introdu...|Even after I left...| 2013-09-09|\n",
            "|         US|   22144592|R2ARY15ILA4FST|B00F27B8YI|     138739715|BLACK (Hard-boile...|Digital_Ebook_Pur...|          5|           53|         57|   N|                Y|A Very Promising ...|I haven't been th...| 2013-09-09|\n",
            "|         US|   52938215| RQ1Z9KSOXWEJM|B00F2FF080|     684513640|SLEEPY HOLLOW: Ri...|Digital_Ebook_Pur...|          5|           56|         58|   N|                N|The next great su...|For anyone lookin...| 2013-09-09|\n",
            "|         US|   10543527|R3R2NCOUD0J5ML|B00EVVOT1K|     181613148|The Billionaire's...|Digital_Ebook_Pur...|          5|           31|         35|   N|                Y|So Worth Waiting ...|I loved Max befor...| 2013-09-09|\n",
            "|         US|   44135254| R1F3B9LEC1LU0|B00EXWBL6I|     998902248|              Titans|Digital_Ebook_Pur...|          5|           33|         36|   N|                Y|Not your average ...|Superb. The autho...| 2013-09-08|\n",
            "|         US|   48188371|R1X2M96X9PVKA7|B005TA81BG|     629680672|100 Fun Stories f...|Digital_Ebook_Pur...|          5|           28|         29|   N|                Y|Great For Babysit...|My daughter is on...| 2013-09-08|\n",
            "|         US|   24060672|R2FH1KGVLU48N3|B00EYMXM2I|     215031900|Fashionably Dead ...|Digital_Ebook_Pur...|          5|           30|         31|   N|                Y|Hot Damn! the \"Da...|The perfect and d...| 2013-09-08|\n",
            "|         US|   52572969|R2HC0OEQ8BBH84|B00EXMOFOS|     944350029|Accessories After...|Digital_Ebook_Pur...|          5|           36|         36|   N|                Y|       Magnificent!!|I would give this...| 2013-09-08|\n",
            "|         US|   12808851|R3L0081CG4OPT4|B00DB53ZMQ|      59542160| The No Contact Rule|Digital_Ebook_Pur...|          5|           22|         24|   N|                Y|Helps you get ser...|In this book, Nat...| 2013-09-08|\n",
            "|         US|   46707070|R1M5KH2R68XTK1|B007T2BW6S|     181832619|Crossfire: Hearts...|Digital_Ebook_Pur...|          5|           21|         21|   N|                Y|Another book plea...|Niki Savage does ...| 2013-09-08|\n",
            "+-----------+-----------+--------------+----------+--------------+--------------------+--------------------+-----------+-------------+-----------+----+-----------------+--------------------+--------------------+-----------+\n",
            "only showing top 20 rows\n",
            "\n"
          ]
        }
      ]
    },
    {
      "cell_type": "code",
      "source": [
        "five_star_reviews.count()"
      ],
      "metadata": {
        "colab": {
          "base_uri": "https://localhost:8080/"
        },
        "id": "lt46nRiTolva",
        "outputId": "f0fc0afe-fe26-4b53-fde0-b9653dec3a74"
      },
      "execution_count": 9,
      "outputs": [
        {
          "output_type": "execute_result",
          "data": {
            "text/plain": [
              "24673"
            ]
          },
          "metadata": {},
          "execution_count": 9
        }
      ]
    },
    {
      "cell_type": "code",
      "source": [
        "# total reviews\n",
        "new_table.count()"
      ],
      "metadata": {
        "colab": {
          "base_uri": "https://localhost:8080/"
        },
        "id": "pflDiGvYospV",
        "outputId": "ab18a4d6-4dc6-4ef7-916c-072c569fbd06"
      },
      "execution_count": 10,
      "outputs": [
        {
          "output_type": "execute_result",
          "data": {
            "text/plain": [
              "65149"
            ]
          },
          "metadata": {},
          "execution_count": 10
        }
      ]
    },
    {
      "cell_type": "code",
      "source": [
        "#percentage of five star reviews\n",
        "five_star_reviews.count() / new_table.count()"
      ],
      "metadata": {
        "colab": {
          "base_uri": "https://localhost:8080/"
        },
        "id": "hUjoGMnpovnk",
        "outputId": "29a6aaa3-d9df-44c6-891b-8ead2ccbe7f4"
      },
      "execution_count": 12,
      "outputs": [
        {
          "output_type": "execute_result",
          "data": {
            "text/plain": [
              "0.37871648068274266"
            ]
          },
          "metadata": {},
          "execution_count": 12
        }
      ]
    },
    {
      "cell_type": "code",
      "source": [
        "#percentage of paid 5 star reviews\n",
        "# The output supposed to be an error since there are no paid reviews in this dataset being analyzed.\n",
        "five_star_reviews.filter(five_star_reviews[\"vine\"] == \"Y\").count()/new_table.filter(new_table[\"vine\"] == \"Y\").count()"
      ],
      "metadata": {
        "colab": {
          "base_uri": "https://localhost:8080/",
          "height": 201
        },
        "id": "-VEP_Xr4oy2k",
        "outputId": "4945e3ce-2ff5-4afd-d39a-0280f7225754"
      },
      "execution_count": 13,
      "outputs": [
        {
          "output_type": "error",
          "ename": "ZeroDivisionError",
          "evalue": "ignored",
          "traceback": [
            "\u001b[0;31m---------------------------------------------------------------------------\u001b[0m",
            "\u001b[0;31mZeroDivisionError\u001b[0m                         Traceback (most recent call last)",
            "\u001b[0;32m<ipython-input-13-8290fc20dc8d>\u001b[0m in \u001b[0;36m<module>\u001b[0;34m\u001b[0m\n\u001b[1;32m      1\u001b[0m \u001b[0;31m#percentage of paid 5 star reviews\u001b[0m\u001b[0;34m\u001b[0m\u001b[0;34m\u001b[0m\u001b[0;34m\u001b[0m\u001b[0m\n\u001b[1;32m      2\u001b[0m \u001b[0;31m# The result will be an error because there are no paid reviews in this dataset being analyzed. Hence there were no paid vine reviews in this dataset\u001b[0m\u001b[0;34m\u001b[0m\u001b[0;34m\u001b[0m\u001b[0;34m\u001b[0m\u001b[0m\n\u001b[0;32m----> 3\u001b[0;31m \u001b[0mfive_star_reviews\u001b[0m\u001b[0;34m.\u001b[0m\u001b[0mfilter\u001b[0m\u001b[0;34m(\u001b[0m\u001b[0mfive_star_reviews\u001b[0m\u001b[0;34m[\u001b[0m\u001b[0;34m\"vine\"\u001b[0m\u001b[0;34m]\u001b[0m \u001b[0;34m==\u001b[0m \u001b[0;34m\"Y\"\u001b[0m\u001b[0;34m)\u001b[0m\u001b[0;34m.\u001b[0m\u001b[0mcount\u001b[0m\u001b[0;34m(\u001b[0m\u001b[0;34m)\u001b[0m\u001b[0;34m/\u001b[0m\u001b[0mnew_table\u001b[0m\u001b[0;34m.\u001b[0m\u001b[0mfilter\u001b[0m\u001b[0;34m(\u001b[0m\u001b[0mnew_table\u001b[0m\u001b[0;34m[\u001b[0m\u001b[0;34m\"vine\"\u001b[0m\u001b[0;34m]\u001b[0m \u001b[0;34m==\u001b[0m \u001b[0;34m\"Y\"\u001b[0m\u001b[0;34m)\u001b[0m\u001b[0;34m.\u001b[0m\u001b[0mcount\u001b[0m\u001b[0;34m(\u001b[0m\u001b[0;34m)\u001b[0m\u001b[0;34m\u001b[0m\u001b[0;34m\u001b[0m\u001b[0m\n\u001b[0m",
            "\u001b[0;31mZeroDivisionError\u001b[0m: division by zero"
          ]
        }
      ]
    },
    {
      "cell_type": "code",
      "source": [
        "# percentage of unpaid 5 star reviews \n",
        "five_star_reviews.filter(five_star_reviews[\"vine\"] == \"N\").count()/new_table.filter(new_table[\"vine\"] == \"N\").count()"
      ],
      "metadata": {
        "colab": {
          "base_uri": "https://localhost:8080/"
        },
        "id": "T_y4suU7o9Uu",
        "outputId": "a6de4d26-b482-4e6a-faac-ec01e23e51ff"
      },
      "execution_count": 14,
      "outputs": [
        {
          "output_type": "execute_result",
          "data": {
            "text/plain": [
              "0.37871648068274266"
            ]
          },
          "metadata": {},
          "execution_count": 14
        }
      ]
    },
    {
      "cell_type": "code",
      "source": [],
      "metadata": {
        "id": "6GcMV8T0pMNc"
      },
      "execution_count": null,
      "outputs": []
    }
  ]
}